{
 "cells": [
  {
   "cell_type": "code",
   "execution_count": 1,
   "id": "26486b34",
   "metadata": {},
   "outputs": [],
   "source": [
    "import logging\n"
   ]
  },
  {
   "cell_type": "code",
   "execution_count": null,
   "id": "e209e11c",
   "metadata": {},
   "outputs": [],
   "source": []
  },
  {
   "cell_type": "code",
   "execution_count": 2,
   "id": "765cab00",
   "metadata": {},
   "outputs": [],
   "source": [
    "logging.basicConfig(level=logging.DEBUG,filename=\"C:\\\\Users\\\\Nishi\\\\Logging practice\\\\app1.log\",filemode='w',format=\"%(asctime)s-%(message)s-%(levelname)s-%(name)s\")"
   ]
  },
  {
   "cell_type": "code",
   "execution_count": 3,
   "id": "d3aa9fdc",
   "metadata": {},
   "outputs": [
    {
     "name": "stdout",
     "output_type": "stream",
     "text": [
      "Enter the age : hel\n",
      "invalid literal for int() with base 10: 'hel'\n"
     ]
    }
   ],
   "source": [
    "try:\n",
    "    arg = int(input(\"Enter the age : \"))\n",
    "except Exception as e:\n",
    "      print(e)"
   ]
  },
  {
   "cell_type": "code",
   "execution_count": 5,
   "id": "ed956c9a",
   "metadata": {},
   "outputs": [
    {
     "name": "stdout",
     "output_type": "stream",
     "text": [
      "Enter the age : ell\n"
     ]
    }
   ],
   "source": [
    "try:\n",
    "    arg = int(input(\"Enter the age : \"))\n",
    "except Exception as e:\n",
    "      logging.error(\"exception handled\",exc_info=True)"
   ]
  },
  {
   "cell_type": "code",
   "execution_count": 6,
   "id": "b1922ffc",
   "metadata": {},
   "outputs": [],
   "source": [
    "class AccessDenied(Exception):\n",
    "    pass"
   ]
  },
  {
   "cell_type": "code",
   "execution_count": 7,
   "id": "a70a4401",
   "metadata": {},
   "outputs": [
    {
     "name": "stdout",
     "output_type": "stream",
     "text": [
      "Enter the age:hell\n"
     ]
    }
   ],
   "source": [
    "try:\n",
    "    a = int(input(\"Enter the age:\"))\n",
    "    if a <18:\n",
    "        raise AccessDenied(\"Access exception\")\n",
    "    logging.info(f\"Through the error for {a}\")\n",
    "except Exception as E:\n",
    "    logging.exception(\"exception occur\")\n",
    "    "
   ]
  },
  {
   "cell_type": "code",
   "execution_count": null,
   "id": "af89fc1b",
   "metadata": {},
   "outputs": [],
   "source": []
  },
  {
   "cell_type": "code",
   "execution_count": null,
   "id": "f272e219",
   "metadata": {},
   "outputs": [],
   "source": []
  },
  {
   "cell_type": "code",
   "execution_count": null,
   "id": "3a4c2062",
   "metadata": {},
   "outputs": [],
   "source": []
  }
 ],
 "metadata": {
  "kernelspec": {
   "display_name": "Python 3 (ipykernel)",
   "language": "python",
   "name": "python3"
  },
  "language_info": {
   "codemirror_mode": {
    "name": "ipython",
    "version": 3
   },
   "file_extension": ".py",
   "mimetype": "text/x-python",
   "name": "python",
   "nbconvert_exporter": "python",
   "pygments_lexer": "ipython3",
   "version": "3.10.9"
  }
 },
 "nbformat": 4,
 "nbformat_minor": 5
}
