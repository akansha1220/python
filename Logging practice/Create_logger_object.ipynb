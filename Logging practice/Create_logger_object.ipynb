{
 "cells": [
  {
   "cell_type": "code",
   "execution_count": 1,
   "id": "66572895",
   "metadata": {},
   "outputs": [],
   "source": [
    "#how to log the message"
   ]
  },
  {
   "cell_type": "code",
   "execution_count": 9,
   "id": "6feb5164",
   "metadata": {},
   "outputs": [],
   "source": [
    "import logging\n",
    "import sys"
   ]
  },
  {
   "cell_type": "code",
   "execution_count": 10,
   "id": "aebd4781",
   "metadata": {},
   "outputs": [],
   "source": [
    "logging.basicConfig(filename=\"C:\\\\Users\\\\Nishi\\\\app1.log\",\n",
    "                    level=logging.DEBUG,\n",
    "                    filemode='w',\n",
    "                    format = \"%(levelname)s:%(name)s:%(message)s\",\n",
    "                    datefmt=\"%d-%b-%y %H:%M:%S\")"
   ]
  },
  {
   "cell_type": "code",
   "execution_count": 12,
   "id": "a283ecae",
   "metadata": {},
   "outputs": [],
   "source": [
    "# to write the command directory name (director)\n",
    "\n",
    "logger = logging.getLogger(sys.argv[0])\n",
    "logger.info(\"This is the information function\")"
   ]
  },
  {
   "cell_type": "code",
   "execution_count": 13,
   "id": "c3bb9058",
   "metadata": {},
   "outputs": [],
   "source": [
    "logger = logging.getLogger(\"Akansha\")\n",
    "#or\n",
    "logger = logging.getLogger(__name__) #// give the current file name (main) hoga agr imported nhi h"
   ]
  },
  {
   "cell_type": "code",
   "execution_count": 30,
   "id": "5656304e",
   "metadata": {},
   "outputs": [],
   "source": [
    "logger.setLevel(10)"
   ]
  },
  {
   "cell_type": "code",
   "execution_count": 31,
   "id": "4f7c113a",
   "metadata": {},
   "outputs": [],
   "source": [
    "logger.info(\"This is the information function\")\n",
    "logger.error(\"error message goes here\")"
   ]
  },
  {
   "cell_type": "code",
   "execution_count": null,
   "id": "23a602de",
   "metadata": {},
   "outputs": [],
   "source": []
  }
 ],
 "metadata": {
  "kernelspec": {
   "display_name": "Python 3 (ipykernel)",
   "language": "python",
   "name": "python3"
  },
  "language_info": {
   "codemirror_mode": {
    "name": "ipython",
    "version": 3
   },
   "file_extension": ".py",
   "mimetype": "text/x-python",
   "name": "python",
   "nbconvert_exporter": "python",
   "pygments_lexer": "ipython3",
   "version": "3.10.9"
  }
 },
 "nbformat": 4,
 "nbformat_minor": 5
}
