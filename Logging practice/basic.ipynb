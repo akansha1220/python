{
 "cells": [
  {
   "cell_type": "code",
   "execution_count": 2,
   "id": "c8719448",
   "metadata": {},
   "outputs": [],
   "source": [
    "import logging"
   ]
  },
  {
   "cell_type": "code",
   "execution_count": 3,
   "id": "29a85923",
   "metadata": {},
   "outputs": [],
   "source": [
    "logging.basicConfig(level=logging.DEBUG)\n",
    "#or\n",
    "logging.basicConfig(level=10)\n"
   ]
  },
  {
   "cell_type": "code",
   "execution_count": 4,
   "id": "60ea3bac",
   "metadata": {},
   "outputs": [
    {
     "name": "stderr",
     "output_type": "stream",
     "text": [
      "DEBUG:root:this is a debug mesage\n",
      "INFO:root:This is a info message\n",
      "WARNING:root:This is a warning message\n",
      "ERROR:root:This is an error message\n",
      "CRITICAL:root:this is a critical sITUATION MESSAGE\n"
     ]
    }
   ],
   "source": [
    "logging.debug(\"this is a debug mesage\")\n",
    "logging.info(\"This is a info message\")\n",
    "logging.warning(\"This is a warning message\")\n",
    "logging.error(\"This is an error message\")\n",
    "logging.critical(\"this is a critical sITUATION MESSAGE\")"
   ]
  },
  {
   "cell_type": "code",
   "execution_count": 5,
   "id": "7153d412",
   "metadata": {},
   "outputs": [],
   "source": [
    "from logging import *"
   ]
  },
  {
   "cell_type": "code",
   "execution_count": 6,
   "id": "332249b5",
   "metadata": {},
   "outputs": [],
   "source": [
    "basicConfig(level=DEBUG)"
   ]
  },
  {
   "cell_type": "code",
   "execution_count": 7,
   "id": "007d9947",
   "metadata": {},
   "outputs": [
    {
     "name": "stderr",
     "output_type": "stream",
     "text": [
      "DEBUG:root:this is a debug mesage\n",
      "INFO:root:This is a info message\n",
      "WARNING:root:This is a warning message\n",
      "ERROR:root:This is an error message\n",
      "CRITICAL:root:this is a critical sITUATION MESSAGE\n"
     ]
    }
   ],
   "source": [
    "debug(\"this is a debug mesage\")\n",
    "info(\"This is a info message\")\n",
    "warning(\"This is a warning message\")\n",
    "error(\"This is an error message\")\n",
    "critical(\"this is a critical sITUATION MESSAGE\")"
   ]
  },
  {
   "cell_type": "code",
   "execution_count": 8,
   "id": "407619c2",
   "metadata": {},
   "outputs": [
    {
     "data": {
      "text/plain": [
       "'Format :\\nWARNING:root:This is a warning message\\nlevel:filename:message'"
      ]
     },
     "execution_count": 8,
     "metadata": {},
     "output_type": "execute_result"
    }
   ],
   "source": [
    "'''Format :\n",
    "WARNING:root:This is a warning message\n",
    "level:filename:message'''"
   ]
  },
  {
   "cell_type": "code",
   "execution_count": 9,
   "id": "7ab1a36d",
   "metadata": {},
   "outputs": [
    {
     "name": "stderr",
     "output_type": "stream",
     "text": [
      "DEBUG:root:this is a debug mesage\n",
      "INFO:root:This is a info message\n",
      "WARNING:root:This is a warning message\n",
      "ERROR:root:This is an error message\n",
      "CRITICAL:root:this is a critical sITUATION MESSAGE\n"
     ]
    }
   ],
   "source": [
    "basicConfig(filename=\"C:\\\\Users\\\\Nishi\\\\app.log\",level=DEBUG)\n",
    "debug(\"this is a debug mesage\")\n",
    "info(\"This is a info message\")\n",
    "warning(\"This is a warning message\")\n",
    "error(\"This is an error message\")\n",
    "critical(\"this is a critical sITUATION MESSAGE\")"
   ]
  },
  {
   "cell_type": "code",
   "execution_count": 81,
   "id": "337fc11c",
   "metadata": {},
   "outputs": [],
   "source": [
    "##To change the format of the logging\n",
    "##now : Loglevel:filename:message"
   ]
  },
  {
   "cell_type": "code",
   "execution_count": 10,
   "id": "a96a16a1",
   "metadata": {},
   "outputs": [
    {
     "name": "stderr",
     "output_type": "stream",
     "text": [
      "DEBUG:root:this is a debug mesage\n",
      "INFO:root:This is a info message\n",
      "WARNING:root:This is a warning message\n",
      "ERROR:root:This is an error message\n",
      "CRITICAL:root:this is a critical sITUATION MESSAGE\n"
     ]
    }
   ],
   "source": [
    "logging.basicConfig(filename=\"C:\\\\Users\\\\Nishi\\\\app1.log\",level=logging.DEBUG,\n",
    "                    filemode='w',format = \"%(message)s:%(levelname)s:%(name)s\")\n",
    "debug(\"this is a debug mesage\")\n",
    "info(\"This is a info message\")\n",
    "warning(\"This is a warning message\")\n",
    "error(\"This is an error message\")\n",
    "critical(\"this is a critical sITUATION MESSAGE\")"
   ]
  },
  {
   "cell_type": "code",
   "execution_count": 83,
   "id": "a64170e9",
   "metadata": {},
   "outputs": [],
   "source": [
    "#How to lock the process ID"
   ]
  },
  {
   "cell_type": "code",
   "execution_count": 11,
   "id": "ecaf7e07",
   "metadata": {},
   "outputs": [
    {
     "name": "stderr",
     "output_type": "stream",
     "text": [
      "DEBUG:root:this is a debug mesage\n",
      "INFO:root:This is a info message\n",
      "WARNING:root:This is a warning message\n",
      "ERROR:root:This is an error message\n",
      "CRITICAL:root:this is a critical sITUATION MESSAGE\n"
     ]
    }
   ],
   "source": [
    "logging.basicConfig(filename=\"C:\\\\Users\\\\Nishi\\\\app3.log\",\n",
    "                    level=logging.DEBUG,filemode='w',\n",
    "                    format = \"%(message)s:%(levelname)s:%(name)s:%(process)s:%(lineno)s\")\n",
    "debug(\"this is a debug mesage\")\n",
    "info(\"This is a info message\")\n",
    "warning(\"This is a warning message\")\n",
    "error(\"This is an error message\")\n",
    "critical(\"this is a critical sITUATION MESSAGE\")"
   ]
  },
  {
   "cell_type": "code",
   "execution_count": 85,
   "id": "0deec172",
   "metadata": {},
   "outputs": [],
   "source": [
    "#To add the time"
   ]
  },
  {
   "cell_type": "code",
   "execution_count": 12,
   "id": "6858f756",
   "metadata": {},
   "outputs": [
    {
     "name": "stderr",
     "output_type": "stream",
     "text": [
      "DEBUG:root:this is a debug mesage\n",
      "INFO:root:This is a info message\n",
      "WARNING:root:This is a warning message\n",
      "ERROR:root:This is an error message\n",
      "CRITICAL:root:this is a critical sITUATION MESSAGE\n"
     ]
    }
   ],
   "source": [
    "logging.basicConfig(filename=\"C:\\\\Users\\\\Nishi\\\\app4.log\",\n",
    "                    level=logging.DEBUG,filemode='w',\n",
    "                    format = \"%(asctime)s/%(message)s:%(levelname)s:%(name)s:%(process)s:%(lineno)s\")\n",
    "debug(\"this is a debug mesage\")\n",
    "info(\"This is a info message\")\n",
    "warning(\"This is a warning message\")\n",
    "error(\"This is an error message\")\n",
    "critical(\"this is a critical sITUATION MESSAGE\")"
   ]
  },
  {
   "cell_type": "code",
   "execution_count": 87,
   "id": "72275c7d",
   "metadata": {},
   "outputs": [],
   "source": [
    "#to format the time"
   ]
  },
  {
   "cell_type": "code",
   "execution_count": 13,
   "id": "9907e256",
   "metadata": {},
   "outputs": [
    {
     "name": "stderr",
     "output_type": "stream",
     "text": [
      "DEBUG:root:this is a debug mesage\n",
      "INFO:root:This is a info message\n",
      "WARNING:root:This is a warning message\n",
      "ERROR:root:This is an error message\n",
      "CRITICAL:root:this is a critical sITUATION MESSAGE\n"
     ]
    }
   ],
   "source": [
    "logging.basicConfig(filename=\"C:\\\\Users\\\\Nishi\\\\app6.log\",level=logging.DEBUG,filemode='w',\n",
    "                    format = \"%(message)s:%(levelname)s:%(name)s:%(process)s:%(lineno)s\",\n",
    "                    datefmt=\"%d-%b-%y %H:%M:%S\")\n",
    "debug(\"this is a debug mesage\")\n",
    "info(\"This is a info message\")\n",
    "warning(\"This is a warning message\")\n",
    "error(\"This is an error message\")\n",
    "critical(\"this is a critical sITUATION MESSAGE\")"
   ]
  },
  {
   "cell_type": "code",
   "execution_count": 89,
   "id": "dd1dddd5",
   "metadata": {},
   "outputs": [],
   "source": [
    "#to change the format styl"
   ]
  },
  {
   "cell_type": "code",
   "execution_count": 14,
   "id": "b11677d6",
   "metadata": {},
   "outputs": [
    {
     "name": "stderr",
     "output_type": "stream",
     "text": [
      "DEBUG:root:this is a debug mesage\n",
      "INFO:root:This is a info message\n",
      "WARNING:root:This is a warning message\n",
      "ERROR:root:This is an error message\n",
      "CRITICAL:root:this is a critical sITUATION MESSAGE\n"
     ]
    }
   ],
   "source": [
    "logging.basicConfig(filename=\"C:\\\\Users\\\\Nishi\\\\app7.log\",\n",
    "                    level=logging.DEBUG,filemode='w',\n",
    "                    format = \"{asctime}:(lineno}:{process}:{message}:{levelname}:{name}\",\n",
    "                    datefmt=\"%d-%b-%y %H:%M:%S\",\n",
    "                    style=\"{\")\n",
    "debug(\"this is a debug mesage\")\n",
    "info(\"This is a info message\")\n",
    "warning(\"This is a warning message\")\n",
    "error(\"This is an error message\")\n",
    "critical(\"this is a critical sITUATION MESSAGE\")"
   ]
  },
  {
   "cell_type": "code",
   "execution_count": 91,
   "id": "1979469e",
   "metadata": {},
   "outputs": [],
   "source": [
    "logging.basicConfig(filename=\"C:\\\\Users\\\\Nishi\\\\app2.log\",\n",
    "                    level=logging.DEBUG,filemode='w',\n",
    "                    format = \"{message}|{asctime}:(lineno}:{process}:{levelname}:{name}\",\n",
    "                    datefmt=\"%d-%b-%y %H:%M:%S\",\n",
    "                    style=\"{\")"
   ]
  },
  {
   "cell_type": "code",
   "execution_count": null,
   "id": "44715723",
   "metadata": {},
   "outputs": [],
   "source": []
  },
  {
   "cell_type": "code",
   "execution_count": null,
   "id": "44a8048c",
   "metadata": {},
   "outputs": [],
   "source": []
  },
  {
   "cell_type": "code",
   "execution_count": null,
   "id": "1c191a34",
   "metadata": {},
   "outputs": [],
   "source": []
  }
 ],
 "metadata": {
  "kernelspec": {
   "display_name": "Python 3 (ipykernel)",
   "language": "python",
   "name": "python3"
  },
  "language_info": {
   "codemirror_mode": {
    "name": "ipython",
    "version": 3
   },
   "file_extension": ".py",
   "mimetype": "text/x-python",
   "name": "python",
   "nbconvert_exporter": "python",
   "pygments_lexer": "ipython3",
   "version": "3.10.9"
  }
 },
 "nbformat": 4,
 "nbformat_minor": 5
}
